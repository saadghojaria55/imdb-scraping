{
  "nbformat": 4,
  "nbformat_minor": 0,
  "metadata": {
    "colab": {
      "name": "Imdb-scraping.ipynb",
      "provenance": []
    },
    "kernelspec": {
      "name": "python3",
      "display_name": "Python 3"
    }
  },
  "cells": [
    {
      "cell_type": "code",
      "metadata": {
        "id": "NHqZlQF-NMh1",
        "colab_type": "code",
        "colab": {}
      },
      "source": [
        "import requests\n",
        "from bs4 import BeautifulSoup\n",
        "\n",
        "# read in a page and convert requests text into 'soup' object\n",
        "r = requests.get('https://www.imdb.com/chart/moviemeter/?sort=ir,desc&mode=simple&page=1')\n",
        "soup = BeautifulSoup(r.content, 'html.parser')\n"
      ],
      "execution_count": null,
      "outputs": []
    },
    {
      "cell_type": "code",
      "metadata": {
        "id": "DOhpO72PN2Ux",
        "colab_type": "code",
        "colab": {}
      },
      "source": [
        "movies=[]\n",
        "table=soup.find('table',attrs={'class':'chart full-width'})\n",
        "table_body = table.find('tbody')\n",
        "\n",
        "rows=table_body.findAll('tr')\n",
        "\n",
        "for row in rows:\n",
        "  cols = row.findAll('td')\n",
        "  cols = [ele.text.strip() for ele in cols]\n",
        "  movies.append([ele for ele in cols if ele])\n"
      ],
      "execution_count": null,
      "outputs": []
    },
    {
      "cell_type": "code",
      "metadata": {
        "id": "KNwlIpkhN3vz",
        "colab_type": "code",
        "colab": {
          "base_uri": "https://localhost:8080/",
          "height": 218
        },
        "outputId": "df2d5ffc-bf01-4d02-b272-d10e975561b5"
      },
      "source": [
        "movies[0:4]"
      ],
      "execution_count": 25,
      "outputs": [
        {
          "output_type": "execute_result",
          "data": {
            "text/plain": [
              "[['Dil Bechara\\n(2020)\\n5\\n(\\n\\n2,879)',\n",
              "  '9.5',\n",
              "  '12345678910 \\n\\n\\n\\nNOT YET RELEASED\\n \\n\\nSeen'],\n",
              " ['The Shawshank Redemption\\n(1994)\\n37\\n(\\n\\n5)',\n",
              "  '9.3',\n",
              "  '12345678910 \\n\\n\\n\\nNOT YET RELEASED\\n \\n\\nSeen'],\n",
              " ['The Godfather\\n(1972)\\n41\\n(\\n\\n11)',\n",
              "  '9.2',\n",
              "  '12345678910 \\n\\n\\n\\nNOT YET RELEASED\\n \\n\\nSeen'],\n",
              " ['The Dark Knight\\n(2008)\\n50\\n(\\n\\n9)',\n",
              "  '9.0',\n",
              "  '12345678910 \\n\\n\\n\\nNOT YET RELEASED\\n \\n\\nSeen']]"
            ]
          },
          "metadata": {
            "tags": []
          },
          "execution_count": 25
        }
      ]
    },
    {
      "cell_type": "code",
      "metadata": {
        "id": "_hXbzG20Vq9a",
        "colab_type": "code",
        "colab": {}
      },
      "source": [
        "title=movies[0][0]"
      ],
      "execution_count": 72,
      "outputs": []
    },
    {
      "cell_type": "code",
      "metadata": {
        "id": "ZoQcJpHlW4Sr",
        "colab_type": "code",
        "colab": {
          "base_uri": "https://localhost:8080/",
          "height": 118
        },
        "outputId": "183e7bca-d21d-4a5c-f1fe-0b451b3912d2"
      },
      "source": [
        "print(title)"
      ],
      "execution_count": 74,
      "outputs": [
        {
          "output_type": "stream",
          "text": [
            "Dil Bechara\n",
            "(2020)\n",
            "5\n",
            "(\n",
            "\n",
            "2,879)\n"
          ],
          "name": "stdout"
        }
      ]
    },
    {
      "cell_type": "code",
      "metadata": {
        "id": "Z0tMQFf1X6IA",
        "colab_type": "code",
        "colab": {}
      },
      "source": [
        "title=title.partition(\"(\")"
      ],
      "execution_count": 76,
      "outputs": []
    },
    {
      "cell_type": "code",
      "metadata": {
        "id": "jdkCcul5lgtD",
        "colab_type": "code",
        "colab": {
          "base_uri": "https://localhost:8080/",
          "height": 34
        },
        "outputId": "23449176-7e7a-44aa-a282-299b941a3643"
      },
      "source": [
        "print(title)"
      ],
      "execution_count": 77,
      "outputs": [
        {
          "output_type": "stream",
          "text": [
            "('Dil Bechara\\n', '(', '2020)\\n5\\n(\\n\\n2,879)')\n"
          ],
          "name": "stdout"
        }
      ]
    },
    {
      "cell_type": "code",
      "metadata": {
        "id": "aP8S8MXilzD1",
        "colab_type": "code",
        "colab": {
          "base_uri": "https://localhost:8080/",
          "height": 50
        },
        "outputId": "5c8c4d29-30bb-483e-a065-2d318787f13f"
      },
      "source": [
        "print(title[0])"
      ],
      "execution_count": 81,
      "outputs": [
        {
          "output_type": "stream",
          "text": [
            "Dil Bechara\n",
            "\n"
          ],
          "name": "stdout"
        }
      ]
    },
    {
      "cell_type": "code",
      "metadata": {
        "id": "3qec4hSenVCS",
        "colab_type": "code",
        "colab": {}
      },
      "source": [
        ""
      ],
      "execution_count": null,
      "outputs": []
    }
  ]
}