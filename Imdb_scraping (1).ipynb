{
  "nbformat": 4,
  "nbformat_minor": 0,
  "metadata": {
    "colab": {
      "name": "Imdb-scraping.ipynb",
      "provenance": []
    },
    "kernelspec": {
      "name": "python3",
      "display_name": "Python 3"
    }
  },
  "cells": [
    {
      "cell_type": "code",
      "metadata": {
        "id": "NHqZlQF-NMh1",
        "colab_type": "code",
        "colab": {
          "base_uri": "https://localhost:8080/",
          "height": 34
        },
        "outputId": "88a0f712-b901-44bd-ff46-76c21389077e"
      },
      "source": [
        "import requests\n",
        "from bs4 import BeautifulSoup\n",
        "\n",
        "n=int(input(\"Enter no of movies\"))\n",
        "r = requests.get('https://www.imdb.com/chart/moviemeter/?sort=ir,desc&mode=simple&page=1')\n",
        "soup = BeautifulSoup(r.content, 'html.parser')"
      ],
      "execution_count": 87,
      "outputs": [
        {
          "output_type": "stream",
          "text": [
            "Enter no of movies5\n"
          ],
          "name": "stdout"
        }
      ]
    },
    {
      "cell_type": "code",
      "metadata": {
        "id": "DOhpO72PN2Ux",
        "colab_type": "code",
        "colab": {}
      },
      "source": [
        "movies=[]\n",
        "table=soup.find('table',attrs={'class':'chart full-width'})\n",
        "table_body = table.find('tbody')\n",
        "\n",
        "rows=table_body.findAll('tr')\n",
        "\n",
        "for row in rows:\n",
        "  cols = row.findAll('td')\n",
        "  cols = [ele.text.strip() for ele in cols]\n",
        "  movies.append([ele for ele in cols if ele])\n"
      ],
      "execution_count": 88,
      "outputs": []
    },
    {
      "cell_type": "code",
      "metadata": {
        "id": "_hXbzG20Vq9a",
        "colab_type": "code",
        "colab": {
          "base_uri": "https://localhost:8080/",
          "height": 54
        },
        "outputId": "fdb1ba37-a4fd-4a75-c43c-618e32303e3f"
      },
      "source": [
        "title=[]\n",
        "for i in range(n):\n",
        "  title.append(movies[i][0])\n",
        "#  title=title.partition(\"(\")\n",
        "  #print(title)\n",
        "print(title)"
      ],
      "execution_count": 99,
      "outputs": [
        {
          "output_type": "stream",
          "text": [
            "['Dil Bechara\\n(2020)\\n5\\n(\\n\\n2,879)', 'The Shawshank Redemption\\n(1994)\\n37\\n(\\n\\n5)', 'The Godfather\\n(1972)\\n41\\n(\\n\\n11)', 'The Dark Knight\\n(2008)\\n50\\n(\\n\\n9)', 'Hamilton\\n(2020)\\n4\\n(no change)']\n"
          ],
          "name": "stdout"
        }
      ]
    },
    {
      "cell_type": "code",
      "metadata": {
        "id": "3qec4hSenVCS",
        "colab_type": "code",
        "colab": {}
      },
      "source": [
        "for link in soup.find('a').get_text():\n",
        "  print(link)\n",
        "  if(link=='Dil Bechara'):\n",
        "    print(link.soup.find('a').get('href'))"
      ],
      "execution_count": 108,
      "outputs": []
    },
    {
      "cell_type": "code",
      "metadata": {
        "id": "SmOiL1eFSr_b",
        "colab_type": "code",
        "colab": {
          "base_uri": "https://localhost:8080/",
          "height": 35
        },
        "outputId": "24d34841-be18-4d8c-d627-7e84ec4767ac"
      },
      "source": [
        "title[0]"
      ],
      "execution_count": 106,
      "outputs": [
        {
          "output_type": "execute_result",
          "data": {
            "application/vnd.google.colaboratory.intrinsic+json": {
              "type": "string"
            },
            "text/plain": [
              "'Dil Bechara\\n(2020)\\n5\\n(\\n\\n2,879)'"
            ]
          },
          "metadata": {
            "tags": []
          },
          "execution_count": 106
        }
      ]
    },
    {
      "cell_type": "code",
      "metadata": {
        "id": "KMtsyDgcStui",
        "colab_type": "code",
        "colab": {
          "base_uri": "https://localhost:8080/",
          "height": 162
        },
        "outputId": "57614f71-f8a9-432e-835e-3a382e7e6a35"
      },
      "source": [
        "a"
      ],
      "execution_count": 73,
      "outputs": [
        {
          "output_type": "error",
          "ename": "NameError",
          "evalue": "ignored",
          "traceback": [
            "\u001b[0;31m---------------------------------------------------------------------------\u001b[0m",
            "\u001b[0;31mNameError\u001b[0m                                 Traceback (most recent call last)",
            "\u001b[0;32m<ipython-input-73-3f786850e387>\u001b[0m in \u001b[0;36m<module>\u001b[0;34m()\u001b[0m\n\u001b[0;32m----> 1\u001b[0;31m \u001b[0ma\u001b[0m\u001b[0;34m\u001b[0m\u001b[0;34m\u001b[0m\u001b[0m\n\u001b[0m",
            "\u001b[0;31mNameError\u001b[0m: name 'a' is not defined"
          ]
        }
      ]
    },
    {
      "cell_type": "code",
      "metadata": {
        "id": "9orlTBgza9g3",
        "colab_type": "code",
        "colab": {}
      },
      "source": [
        ""
      ],
      "execution_count": null,
      "outputs": []
    }
  ]
}